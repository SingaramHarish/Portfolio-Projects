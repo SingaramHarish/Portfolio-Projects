{
 "cells": [
  {
   "cell_type": "code",
   "execution_count": 1,
   "id": "8e79ce25",
   "metadata": {},
   "outputs": [],
   "source": [
    "# import libraries\n",
    "\n",
    "from bs4 import BeautifulSoup\n",
    "import requests\n",
    "import smtplib\n",
    "import pandas as pd\n",
    "import time\n",
    "import datetime"
   ]
  },
  {
   "cell_type": "code",
   "execution_count": 2,
   "id": "3a4a61a4",
   "metadata": {},
   "outputs": [],
   "source": [
    "# Connect to website\n",
    "\n",
    "website = 'https://www.coingecko.com/en'"
   ]
  },
  {
   "cell_type": "code",
   "execution_count": 3,
   "id": "b3bdfe03",
   "metadata": {},
   "outputs": [],
   "source": [
    "response =requests.get(website)"
   ]
  },
  {
   "cell_type": "code",
   "execution_count": 4,
   "id": "157e8362",
   "metadata": {},
   "outputs": [
    {
     "data": {
      "text/plain": [
       "200"
      ]
     },
     "execution_count": 4,
     "metadata": {},
     "output_type": "execute_result"
    }
   ],
   "source": [
    "response.status_code"
   ]
  },
  {
   "cell_type": "code",
   "execution_count": 5,
   "id": "59fdc6c2",
   "metadata": {},
   "outputs": [],
   "source": [
    "soup = BeautifulSoup(response.content, 'html.parser')"
   ]
  },
  {
   "cell_type": "code",
   "execution_count": 10,
   "id": "05828ce7",
   "metadata": {},
   "outputs": [],
   "source": [
    "#Reults\n",
    "\n",
    "results = soup.find('table', {'class': 'table-scrollable'} ).find('tbody').find_all('tr')"
   ]
  },
  {
   "cell_type": "code",
   "execution_count": 11,
   "id": "ee9f137d",
   "metadata": {},
   "outputs": [
    {
     "data": {
      "text/plain": [
       "100"
      ]
     },
     "execution_count": 11,
     "metadata": {},
     "output_type": "execute_result"
    }
   ],
   "source": [
    "len(results)"
   ]
  },
  {
   "cell_type": "code",
   "execution_count": 12,
   "id": "9186a791",
   "metadata": {},
   "outputs": [],
   "source": [
    "#Target Necessary data\n",
    "\n",
    "#Name\n",
    "#Price\n",
    "#1h Change\n",
    "#24h Change\n",
    "#7day Change\n",
    "#24h Volume\n",
    "#Market Cap"
   ]
  },
  {
   "cell_type": "code",
   "execution_count": 15,
   "id": "f0c96b61",
   "metadata": {},
   "outputs": [
    {
     "data": {
      "text/plain": [
       "'Bitcoin'"
      ]
     },
     "execution_count": 15,
     "metadata": {},
     "output_type": "execute_result"
    }
   ],
   "source": [
    "# Name\n",
    "\n",
    "results[0].find( 'a', {'class' : 'tw-hidden lg:tw-flex font-bold tw-items-center tw-justify-between'} ).get_text().strip()"
   ]
  },
  {
   "cell_type": "code",
   "execution_count": 16,
   "id": "41eba3ad",
   "metadata": {},
   "outputs": [
    {
     "data": {
      "text/plain": [
       "'$42,219'"
      ]
     },
     "execution_count": 16,
     "metadata": {},
     "output_type": "execute_result"
    }
   ],
   "source": [
    "# Price\n",
    "\n",
    "results[0].find('td', {'class' : 'td-price'}).get_text().strip()"
   ]
  },
  {
   "cell_type": "code",
   "execution_count": 17,
   "id": "5434de89",
   "metadata": {},
   "outputs": [
    {
     "data": {
      "text/plain": [
       "'-0.9%'"
      ]
     },
     "execution_count": 17,
     "metadata": {},
     "output_type": "execute_result"
    }
   ],
   "source": [
    "# 1h Change\n",
    "\n",
    "results[0].find('td', {'class' : 'td-change1h'}).get_text().strip()"
   ]
  },
  {
   "cell_type": "code",
   "execution_count": 18,
   "id": "752e636a",
   "metadata": {},
   "outputs": [
    {
     "data": {
      "text/plain": [
       "'-4.0%'"
      ]
     },
     "execution_count": 18,
     "metadata": {},
     "output_type": "execute_result"
    }
   ],
   "source": [
    "# 24h Change\n",
    "\n",
    "results[0].find('td', {'class' : 'td-change24h'}).get_text().strip()"
   ]
  },
  {
   "cell_type": "code",
   "execution_count": 19,
   "id": "cbc07173",
   "metadata": {},
   "outputs": [
    {
     "data": {
      "text/plain": [
       "'-11.8%'"
      ]
     },
     "execution_count": 19,
     "metadata": {},
     "output_type": "execute_result"
    }
   ],
   "source": [
    "# 7day Change\n",
    "\n",
    "results[0].find('td', {'class' : 'td-change7d'}).get_text().strip( )"
   ]
  },
  {
   "cell_type": "code",
   "execution_count": 21,
   "id": "b3015706",
   "metadata": {},
   "outputs": [
    {
     "data": {
      "text/plain": [
       "'$35,817,716,056'"
      ]
     },
     "execution_count": 21,
     "metadata": {},
     "output_type": "execute_result"
    }
   ],
   "source": [
    "# 24h Volume\n",
    "\n",
    "results[0].find('td', {'class' : 'td-liquidity_score'}).get_text().strip( )"
   ]
  },
  {
   "cell_type": "code",
   "execution_count": 20,
   "id": "0fc53e10",
   "metadata": {},
   "outputs": [
    {
     "data": {
      "text/plain": [
       "'$794,656,017,727'"
      ]
     },
     "execution_count": 20,
     "metadata": {},
     "output_type": "execute_result"
    }
   ],
   "source": [
    "# Marketcap\n",
    "\n",
    "results[0].find('td', {'class' : 'td-market_cap'}).get_text().strip()"
   ]
  },
  {
   "cell_type": "code",
   "execution_count": 24,
   "id": "dfe68151",
   "metadata": {},
   "outputs": [],
   "source": [
    "# Put everything together inside a For-Loop\n",
    "\n",
    "# Empty Lists\n",
    "\n",
    "name = []\n",
    "price = []\n",
    "change_1h = []\n",
    "change_24h = []\n",
    "change_7d = []\n",
    "volume_24h = []\n",
    "market_cap = []\n",
    "\n",
    "for result in results:\n",
    "    \n",
    "    #name\n",
    "    try:\n",
    "        name.append(result.find( 'a', {'class' : 'tw-hidden lg:tw-flex font-bold tw-items-center tw-justify-between'} ).get_text().strip())\n",
    "    except:\n",
    "        name.append('n/a')\n",
    "    #Price\n",
    "    try:\n",
    "        price.append(result.find('td', {'class' : 'td-price'}).get_text().strip())\n",
    "    except:\n",
    "        price.append('n/a')\n",
    "    # change_1h\n",
    "    try:\n",
    "        change_1h.append(result.find('td', {'class' : 'td-change1h'}).get_text().strip())\n",
    "    except:\n",
    "        change_1h.append('n/a')\n",
    "    # change_24h\n",
    "    try:\n",
    "        change_24h.append(result.find('td', {'class' : 'td-change24h'}).get_text().strip())\n",
    "    except:\n",
    "        change_24h.append('n/a')\n",
    "    # change_7d\n",
    "    try:\n",
    "        change_7d.append(result.find('td', {'class' : 'td-change7d'}).get_text().strip())\n",
    "    except:\n",
    "        change_7d.append('n/a')\n",
    "    # volume_24h\n",
    "    try:\n",
    "        volume_24h.append(result.find('td', {'class' : 'td-liquidity_score'}).get_text().strip())\n",
    "    except:\n",
    "        volume_24h.append('n/a')\n",
    "    # market_cap\n",
    "    try:\n",
    "        market_cap.append(result.find('td', {'class' : 'td-market_cap'}).get_text().strip())\n",
    "    except:\n",
    "        market_cap.append('n/a')"
   ]
  },
  {
   "cell_type": "code",
   "execution_count": 27,
   "id": "25c2fbf1",
   "metadata": {},
   "outputs": [],
   "source": [
    "# Create Pandas Dataframe\n",
    "\n",
    "crypto_df = pd.DataFrame({'Coin':name, 'Price':price, 'Change_1h':change_1h, 'Change_24h': change_24h, 'Change_7d':change_7d, 'Volume_24h':volume_24h, 'Market_cap':market_cap})"
   ]
  },
  {
   "cell_type": "code",
   "execution_count": 28,
   "id": "ec2bf71e",
   "metadata": {},
   "outputs": [
    {
     "data": {
      "text/html": [
       "<div>\n",
       "<style scoped>\n",
       "    .dataframe tbody tr th:only-of-type {\n",
       "        vertical-align: middle;\n",
       "    }\n",
       "\n",
       "    .dataframe tbody tr th {\n",
       "        vertical-align: top;\n",
       "    }\n",
       "\n",
       "    .dataframe thead th {\n",
       "        text-align: right;\n",
       "    }\n",
       "</style>\n",
       "<table border=\"1\" class=\"dataframe\">\n",
       "  <thead>\n",
       "    <tr style=\"text-align: right;\">\n",
       "      <th></th>\n",
       "      <th>Coin</th>\n",
       "      <th>Price</th>\n",
       "      <th>Change_1h</th>\n",
       "      <th>Change_24h</th>\n",
       "      <th>Change_7d</th>\n",
       "      <th>Volume_24h</th>\n",
       "      <th>Market_cap</th>\n",
       "    </tr>\n",
       "  </thead>\n",
       "  <tbody>\n",
       "    <tr>\n",
       "      <th>0</th>\n",
       "      <td>Bitcoin</td>\n",
       "      <td>$42,219</td>\n",
       "      <td>-0.9%</td>\n",
       "      <td>-4.0%</td>\n",
       "      <td>-11.8%</td>\n",
       "      <td>$35,817,716,056</td>\n",
       "      <td>$794,656,017,727</td>\n",
       "    </tr>\n",
       "    <tr>\n",
       "      <th>1</th>\n",
       "      <td>Ethereum</td>\n",
       "      <td>$2,845.00</td>\n",
       "      <td>-1.3%</td>\n",
       "      <td>-8.2%</td>\n",
       "      <td>-20.4%</td>\n",
       "      <td>$21,915,262,905</td>\n",
       "      <td>$334,834,591,078</td>\n",
       "    </tr>\n",
       "    <tr>\n",
       "      <th>2</th>\n",
       "      <td>Tether</td>\n",
       "      <td>$0.999146</td>\n",
       "      <td>0.3%</td>\n",
       "      <td>-0.6%</td>\n",
       "      <td>-0.3%</td>\n",
       "      <td>$69,792,713,293</td>\n",
       "      <td>$69,228,793,157</td>\n",
       "    </tr>\n",
       "    <tr>\n",
       "      <th>3</th>\n",
       "      <td>Cardano</td>\n",
       "      <td>$2.13</td>\n",
       "      <td>-1.3%</td>\n",
       "      <td>-4.2%</td>\n",
       "      <td>-12.1%</td>\n",
       "      <td>$3,281,471,059</td>\n",
       "      <td>$68,357,832,270</td>\n",
       "    </tr>\n",
       "    <tr>\n",
       "      <th>4</th>\n",
       "      <td>Binance Coin</td>\n",
       "      <td>$345.88</td>\n",
       "      <td>-1.7%</td>\n",
       "      <td>-7.9%</td>\n",
       "      <td>-18.6%</td>\n",
       "      <td>$1,635,822,305</td>\n",
       "      <td>$53,457,279,334</td>\n",
       "    </tr>\n",
       "    <tr>\n",
       "      <th>...</th>\n",
       "      <td>...</td>\n",
       "      <td>...</td>\n",
       "      <td>...</td>\n",
       "      <td>...</td>\n",
       "      <td>...</td>\n",
       "      <td>...</td>\n",
       "      <td>...</td>\n",
       "    </tr>\n",
       "    <tr>\n",
       "      <th>95</th>\n",
       "      <td>ICON</td>\n",
       "      <td>$1.54</td>\n",
       "      <td>-0.9%</td>\n",
       "      <td>-6.2%</td>\n",
       "      <td>-25.4%</td>\n",
       "      <td>$83,153,514</td>\n",
       "      <td>$1,019,399,177</td>\n",
       "    </tr>\n",
       "    <tr>\n",
       "      <th>96</th>\n",
       "      <td>yearn.finance</td>\n",
       "      <td>$28,209</td>\n",
       "      <td>-1.0%</td>\n",
       "      <td>-8.2%</td>\n",
       "      <td>-19.0%</td>\n",
       "      <td>$132,036,565</td>\n",
       "      <td>$1,006,611,996</td>\n",
       "    </tr>\n",
       "    <tr>\n",
       "      <th>97</th>\n",
       "      <td>Serum</td>\n",
       "      <td>$7.52</td>\n",
       "      <td>-2.1%</td>\n",
       "      <td>-7.5%</td>\n",
       "      <td>-26.7%</td>\n",
       "      <td>$245,378,217</td>\n",
       "      <td>$1,003,568,322</td>\n",
       "    </tr>\n",
       "    <tr>\n",
       "      <th>98</th>\n",
       "      <td>Qtum</td>\n",
       "      <td>$9.60</td>\n",
       "      <td>-1.8%</td>\n",
       "      <td>-9.0%</td>\n",
       "      <td>-24.5%</td>\n",
       "      <td>$221,158,323</td>\n",
       "      <td>$994,943,854</td>\n",
       "    </tr>\n",
       "    <tr>\n",
       "      <th>99</th>\n",
       "      <td>Curve DAO Token</td>\n",
       "      <td>$2.36</td>\n",
       "      <td>-1.6%</td>\n",
       "      <td>-2.4%</td>\n",
       "      <td>-24.0%</td>\n",
       "      <td>$380,572,117</td>\n",
       "      <td>$958,433,862</td>\n",
       "    </tr>\n",
       "  </tbody>\n",
       "</table>\n",
       "<p>100 rows × 7 columns</p>\n",
       "</div>"
      ],
      "text/plain": [
       "               Coin      Price Change_1h Change_24h Change_7d  \\\n",
       "0           Bitcoin    $42,219     -0.9%      -4.0%    -11.8%   \n",
       "1          Ethereum  $2,845.00     -1.3%      -8.2%    -20.4%   \n",
       "2            Tether  $0.999146      0.3%      -0.6%     -0.3%   \n",
       "3           Cardano      $2.13     -1.3%      -4.2%    -12.1%   \n",
       "4      Binance Coin    $345.88     -1.7%      -7.9%    -18.6%   \n",
       "..              ...        ...       ...        ...       ...   \n",
       "95             ICON      $1.54     -0.9%      -6.2%    -25.4%   \n",
       "96    yearn.finance    $28,209     -1.0%      -8.2%    -19.0%   \n",
       "97            Serum      $7.52     -2.1%      -7.5%    -26.7%   \n",
       "98             Qtum      $9.60     -1.8%      -9.0%    -24.5%   \n",
       "99  Curve DAO Token      $2.36     -1.6%      -2.4%    -24.0%   \n",
       "\n",
       "         Volume_24h        Market_cap  \n",
       "0   $35,817,716,056  $794,656,017,727  \n",
       "1   $21,915,262,905  $334,834,591,078  \n",
       "2   $69,792,713,293   $69,228,793,157  \n",
       "3    $3,281,471,059   $68,357,832,270  \n",
       "4    $1,635,822,305   $53,457,279,334  \n",
       "..              ...               ...  \n",
       "95      $83,153,514    $1,019,399,177  \n",
       "96     $132,036,565    $1,006,611,996  \n",
       "97     $245,378,217    $1,003,568,322  \n",
       "98     $221,158,323      $994,943,854  \n",
       "99     $380,572,117      $958,433,862  \n",
       "\n",
       "[100 rows x 7 columns]"
      ]
     },
     "execution_count": 28,
     "metadata": {},
     "output_type": "execute_result"
    }
   ],
   "source": [
    "# Output dataframe\n",
    "\n",
    "crypto_df"
   ]
  },
  {
   "cell_type": "code",
   "execution_count": 29,
   "id": "8470c4dd",
   "metadata": {},
   "outputs": [],
   "source": [
    "# Store the Output data in EXCEL \n",
    "\n",
    "crypto_df.to_excel('single_page_crypto.xlsx', index=False)"
   ]
  },
  {
   "cell_type": "code",
   "execution_count": 30,
   "id": "bb157dc4",
   "metadata": {},
   "outputs": [],
   "source": [
    "# Pagination - Get 1000 Results\n",
    "\n",
    "# Empty Lists\n",
    "\n",
    "name = []\n",
    "price = []\n",
    "change_1h = []\n",
    "change_24h = []\n",
    "change_7d = []\n",
    "volume_24h = []\n",
    "market_cap = []\n",
    "\n",
    "\n",
    "for i in range (1,11):\n",
    "    \n",
    "    #website\n",
    "    website = 'https://www.coingecko.com/en?page=' + str(i)\n",
    "\n",
    "    #request to website\n",
    "    response = requests.get(website)\n",
    "    \n",
    "    #soup object\n",
    "    soup= BeautifulSoup(response.content,'html.parser')\n",
    "    \n",
    "    #results\n",
    "    results = soup.find('table', {'class': 'table-scrollable'} ).find('tbody').find_all('tr')\n",
    "    \n",
    "    for result in results:\n",
    "    \n",
    "        #name\n",
    "        try:\n",
    "            name.append(result.find( 'a', {'class' : 'tw-hidden lg:tw-flex font-bold tw-items-center tw-justify-between'} ).get_text().strip())\n",
    "        except:\n",
    "            name.append('n/a')\n",
    "        #Price\n",
    "        try:\n",
    "            price.append(result.find('td', {'class' : 'td-price'}).get_text().strip())\n",
    "        except:\n",
    "            price.append('n/a')\n",
    "        # change_1h\n",
    "        try:\n",
    "            change_1h.append(result.find('td', {'class' : 'td-change1h'}).get_text().strip())\n",
    "        except:\n",
    "            change_1h.append('n/a')\n",
    "        # change_24h\n",
    "        try:\n",
    "            change_24h.append(result.find('td', {'class' : 'td-change24h'}).get_text().strip())\n",
    "        except:\n",
    "            change_24h.append('n/a')\n",
    "        # change_7d\n",
    "        try:\n",
    "            change_7d.append(result.find('td', {'class' : 'td-change7d'}).get_text().strip())\n",
    "        except:\n",
    "            change_7d.append('n/a')\n",
    "        # volume_24h\n",
    "        try:\n",
    "            volume_24h.append(result.find('td', {'class' : 'td-liquidity_score'}).get_text().strip())\n",
    "        except:\n",
    "            volume_24h.append('n/a')\n",
    "        # market_cap\n",
    "        try:\n",
    "            market_cap.append(result.find('td', {'class' : 'td-market_cap'}).get_text().strip())\n",
    "        except:\n",
    "            market_cap.append('n/a')\n",
    "\n"
   ]
  },
  {
   "cell_type": "code",
   "execution_count": 31,
   "id": "0da509ce",
   "metadata": {},
   "outputs": [
    {
     "data": {
      "text/plain": [
       "1000"
      ]
     },
     "execution_count": 31,
     "metadata": {},
     "output_type": "execute_result"
    }
   ],
   "source": [
    "#let's check\n",
    "\n",
    "len(name)"
   ]
  },
  {
   "cell_type": "code",
   "execution_count": 32,
   "id": "dda8efef",
   "metadata": {},
   "outputs": [],
   "source": [
    "#Pandas Dataframe\n",
    "\n",
    "crypto_df = pd.DataFrame({'Coin':name, 'Price':price, 'Change_1h':change_1h, 'Change_24h': change_24h, 'Change_7d':change_7d, 'Volume_24h':volume_24h, 'Market_cap':market_cap})"
   ]
  },
  {
   "cell_type": "code",
   "execution_count": 34,
   "id": "57c65f6b",
   "metadata": {},
   "outputs": [
    {
     "data": {
      "text/html": [
       "<div>\n",
       "<style scoped>\n",
       "    .dataframe tbody tr th:only-of-type {\n",
       "        vertical-align: middle;\n",
       "    }\n",
       "\n",
       "    .dataframe tbody tr th {\n",
       "        vertical-align: top;\n",
       "    }\n",
       "\n",
       "    .dataframe thead th {\n",
       "        text-align: right;\n",
       "    }\n",
       "</style>\n",
       "<table border=\"1\" class=\"dataframe\">\n",
       "  <thead>\n",
       "    <tr style=\"text-align: right;\">\n",
       "      <th></th>\n",
       "      <th>Coin</th>\n",
       "      <th>Price</th>\n",
       "      <th>Change_1h</th>\n",
       "      <th>Change_24h</th>\n",
       "      <th>Change_7d</th>\n",
       "      <th>Volume_24h</th>\n",
       "      <th>Market_cap</th>\n",
       "    </tr>\n",
       "  </thead>\n",
       "  <tbody>\n",
       "    <tr>\n",
       "      <th>0</th>\n",
       "      <td>Bitcoin</td>\n",
       "      <td>$42,277</td>\n",
       "      <td>2.7%</td>\n",
       "      <td>-4.5%</td>\n",
       "      <td>-11.7%</td>\n",
       "      <td>$41,364,858,512</td>\n",
       "      <td>$796,195,499,990</td>\n",
       "    </tr>\n",
       "    <tr>\n",
       "      <th>1</th>\n",
       "      <td>Ethereum</td>\n",
       "      <td>$2,900.05</td>\n",
       "      <td>3.4%</td>\n",
       "      <td>-7.3%</td>\n",
       "      <td>-18.8%</td>\n",
       "      <td>$27,083,964,745</td>\n",
       "      <td>$341,378,278,304</td>\n",
       "    </tr>\n",
       "    <tr>\n",
       "      <th>2</th>\n",
       "      <td>Cardano</td>\n",
       "      <td>$2.25</td>\n",
       "      <td>4.1%</td>\n",
       "      <td>0.1%</td>\n",
       "      <td>-7.4%</td>\n",
       "      <td>$4,749,233,309</td>\n",
       "      <td>$72,053,060,582</td>\n",
       "    </tr>\n",
       "    <tr>\n",
       "      <th>3</th>\n",
       "      <td>Tether</td>\n",
       "      <td>$1.00</td>\n",
       "      <td>0.3%</td>\n",
       "      <td>0.0%</td>\n",
       "      <td>0.2%</td>\n",
       "      <td>$81,493,849,505</td>\n",
       "      <td>$69,750,531,916</td>\n",
       "    </tr>\n",
       "    <tr>\n",
       "      <th>4</th>\n",
       "      <td>Binance Coin</td>\n",
       "      <td>$350.40</td>\n",
       "      <td>3.1%</td>\n",
       "      <td>-7.6%</td>\n",
       "      <td>-17.5%</td>\n",
       "      <td>$1,901,928,042</td>\n",
       "      <td>$54,162,679,941</td>\n",
       "    </tr>\n",
       "    <tr>\n",
       "      <th>...</th>\n",
       "      <td>...</td>\n",
       "      <td>...</td>\n",
       "      <td>...</td>\n",
       "      <td>...</td>\n",
       "      <td>...</td>\n",
       "      <td>...</td>\n",
       "      <td>...</td>\n",
       "    </tr>\n",
       "    <tr>\n",
       "      <th>995</th>\n",
       "      <td>Ubiq</td>\n",
       "      <td>$0.246874</td>\n",
       "      <td>0.2%</td>\n",
       "      <td>-2.5%</td>\n",
       "      <td>-13.6%</td>\n",
       "      <td>$27,502</td>\n",
       "      <td>$11,471,626</td>\n",
       "    </tr>\n",
       "    <tr>\n",
       "      <th>996</th>\n",
       "      <td>SpankChain</td>\n",
       "      <td>$0.017002867692</td>\n",
       "      <td>-2.5%</td>\n",
       "      <td>8.6%</td>\n",
       "      <td>-40.6%</td>\n",
       "      <td>$6,608.13</td>\n",
       "      <td>$11,460,669</td>\n",
       "    </tr>\n",
       "    <tr>\n",
       "      <th>997</th>\n",
       "      <td>Probit Token</td>\n",
       "      <td>$0.287748</td>\n",
       "      <td>1.9%</td>\n",
       "      <td>1.0%</td>\n",
       "      <td>-3.7%</td>\n",
       "      <td>$32,005</td>\n",
       "      <td>$11,392,023</td>\n",
       "    </tr>\n",
       "    <tr>\n",
       "      <th>998</th>\n",
       "      <td>Media Network</td>\n",
       "      <td>$45.47</td>\n",
       "      <td>1.1%</td>\n",
       "      <td>-1.3%</td>\n",
       "      <td>-12.9%</td>\n",
       "      <td>$676,562</td>\n",
       "      <td>$11,354,697</td>\n",
       "    </tr>\n",
       "    <tr>\n",
       "      <th>999</th>\n",
       "      <td>Sunny Aggregator</td>\n",
       "      <td>$0.044462376879</td>\n",
       "      <td>0.0%</td>\n",
       "      <td>-5.4%</td>\n",
       "      <td>-11.1%</td>\n",
       "      <td>$2,280,165</td>\n",
       "      <td>$11,333,320</td>\n",
       "    </tr>\n",
       "  </tbody>\n",
       "</table>\n",
       "<p>1000 rows × 7 columns</p>\n",
       "</div>"
      ],
      "text/plain": [
       "                 Coin            Price Change_1h Change_24h Change_7d  \\\n",
       "0             Bitcoin          $42,277      2.7%      -4.5%    -11.7%   \n",
       "1            Ethereum        $2,900.05      3.4%      -7.3%    -18.8%   \n",
       "2             Cardano            $2.25      4.1%       0.1%     -7.4%   \n",
       "3              Tether            $1.00      0.3%       0.0%      0.2%   \n",
       "4        Binance Coin          $350.40      3.1%      -7.6%    -17.5%   \n",
       "..                ...              ...       ...        ...       ...   \n",
       "995              Ubiq        $0.246874      0.2%      -2.5%    -13.6%   \n",
       "996        SpankChain  $0.017002867692     -2.5%       8.6%    -40.6%   \n",
       "997      Probit Token        $0.287748      1.9%       1.0%     -3.7%   \n",
       "998     Media Network           $45.47      1.1%      -1.3%    -12.9%   \n",
       "999  Sunny Aggregator  $0.044462376879      0.0%      -5.4%    -11.1%   \n",
       "\n",
       "          Volume_24h        Market_cap  \n",
       "0    $41,364,858,512  $796,195,499,990  \n",
       "1    $27,083,964,745  $341,378,278,304  \n",
       "2     $4,749,233,309   $72,053,060,582  \n",
       "3    $81,493,849,505   $69,750,531,916  \n",
       "4     $1,901,928,042   $54,162,679,941  \n",
       "..               ...               ...  \n",
       "995          $27,502       $11,471,626  \n",
       "996        $6,608.13       $11,460,669  \n",
       "997          $32,005       $11,392,023  \n",
       "998         $676,562       $11,354,697  \n",
       "999       $2,280,165       $11,333,320  \n",
       "\n",
       "[1000 rows x 7 columns]"
      ]
     },
     "execution_count": 34,
     "metadata": {},
     "output_type": "execute_result"
    }
   ],
   "source": [
    "crypto_df"
   ]
  },
  {
   "cell_type": "code",
   "execution_count": 35,
   "id": "e2efacc8",
   "metadata": {},
   "outputs": [],
   "source": [
    "# Store Output Data in Excel\n",
    "\n",
    "crypto_df.to_excel('Multiple_page_crypto.xlsx', index=False)"
   ]
  },
  {
   "cell_type": "code",
   "execution_count": null,
   "id": "d81ef188",
   "metadata": {},
   "outputs": [],
   "source": []
  }
 ],
 "metadata": {
  "kernelspec": {
   "display_name": "Python 3",
   "language": "python",
   "name": "python3"
  },
  "language_info": {
   "codemirror_mode": {
    "name": "ipython",
    "version": 3
   },
   "file_extension": ".py",
   "mimetype": "text/x-python",
   "name": "python",
   "nbconvert_exporter": "python",
   "pygments_lexer": "ipython3",
   "version": "3.8.8"
  }
 },
 "nbformat": 4,
 "nbformat_minor": 5
}
